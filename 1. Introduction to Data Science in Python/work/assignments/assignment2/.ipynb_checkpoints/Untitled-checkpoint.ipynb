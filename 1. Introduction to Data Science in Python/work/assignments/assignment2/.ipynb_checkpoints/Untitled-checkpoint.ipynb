{
 "cells": [
  {
   "cell_type": "code",
   "execution_count": 1,
   "metadata": {},
   "outputs": [],
   "source": [
    "import pandas as pd\n",
    "import re\n"
   ]
  },
  {
   "cell_type": "code",
   "execution_count": 82,
   "metadata": {},
   "outputs": [
    {
     "data": {
      "text/plain": [
       "{'less than high school': 0.10202002459160373,\n",
       " 'high school': 0.172352011241876,\n",
       " 'more than high school but not college': 0.24588090637625154,\n",
       " 'college': 0.47974705779026877}"
      ]
     },
     "execution_count": 82,
     "metadata": {},
     "output_type": "execute_result"
    }
   ],
   "source": [
    "import pandas as pd\n",
    "import re\n",
    "\n",
    "def proportion_of_education():\n",
    "    df=pd.read_csv(\"assets/NISPUF17.csv\",index_col=0)\n",
    "    df.dropna()\n",
    "    lessthan=[]\n",
    "    highschool=[]\n",
    "    morethan=[]\n",
    "    college=[]\n",
    "    length=len(df['EDUC1'])\n",
    "    for item in df['EDUC1']:\n",
    "        if item==1:\n",
    "            lessthan.append(item)\n",
    "        elif item ==2:\n",
    "            highschool.append(item)\n",
    "        elif item ==3:\n",
    "            morethan.append(item)\n",
    "        else:\n",
    "            college.append(item)\n",
    "    lessthan=(len(lessthan)/length)\n",
    "    highschool=(len(highschool)/length)\n",
    "    morethan=(len(morethan)/length)\n",
    "    college=(len(college)/length)\n",
    "    proportion=['less than high school',\n",
    "                'high school',\n",
    "                'more than high school but not college',\n",
    "                'college']\n",
    "    value=[lessthan,highschool,morethan,college]\n",
    "    dictionary = dict(zip(proportion, value))\n",
    "    return dictionary\n",
    "proportion_of_education()"
   ]
  },
  {
   "cell_type": "code",
   "execution_count": 84,
   "metadata": {},
   "outputs": [],
   "source": [
    "import numpy as np\n",
    "import pandas as pd\n",
    "\n",
    "df = pd.read_csv(\"assets/NISPUF17.csv\", index_col=0)\n",
    "df = df[['CBF_01', 'P_NUMFLU']].copy()\n",
    "df.dropna(inplace=True)\n",
    "\n",
    "BFY = (df['CBF_01'].eq(1))\n",
    "BFN = (df['CBF_01'].eq(2))\n",
    "BFNN = (df['CBF_01'].eq(3))\n",
    "BFNNN = (df['CBF_01'].eq(4))\n",
    "\n",
    "dfBFY = pd.concat([BFY, df['P_NUMFLU']], axis=1).reindex(BFY.index)\n",
    "dfBFY = dfBFY[dfBFY['CBF_01'] == True]\n",
    "result_bf=(dfBFY['P_NUMFLU'].sum()/len(dfBFY))\n",
    "dfBFN = pd.concat([BFN, df['P_NUMFLU']], axis=1).reindex(BFN.index)\n",
    "dfBFN = dfBFN[dfBFN['CBF_01'] == True]\n",
    "result_nobf=(dfBFN['P_NUMFLU'].sum()/len(dfBFN))\n",
    "result=result_bf,result_nobf"
   ]
  },
  {
   "cell_type": "code",
   "execution_count": 85,
   "metadata": {},
   "outputs": [
    {
     "data": {
      "text/plain": [
       "(1.8799187420058687, 1.5963945918878317)"
      ]
     },
     "execution_count": 85,
     "metadata": {},
     "output_type": "execute_result"
    }
   ],
   "source": [
    "result"
   ]
  },
  {
   "cell_type": "code",
   "execution_count": 141,
   "metadata": {},
   "outputs": [],
   "source": [
    "import numpy as np\n",
    "import pandas as pd\n",
    "\n",
    "df = pd.read_csv(\"assets/NISPUF17.csv\", index_col=0)\n",
    "df=df[[\"SEX\",\"HAD_CPOX\",\"P_NUMVRC\"]].dropna()\n",
    "df=df[df['HAD_CPOX'].eq(1)|df['HAD_CPOX'].eq(2)]\n",
    "male=df[df['SEX'].eq(1)]\n",
    "female=df[df['SEX'].eq(2)]\n",
    "x1=male[\"HAD_CPOX\"].eq(1)&male[\"P_NUMVRC\"].ge(1)\n",
    "x2=male[\"HAD_CPOX\"].eq(2)&male[\"P_NUMVRC\"].ge(1)\n",
    "y1=female[\"HAD_CPOX\"].eq(1)&female[\"P_NUMVRC\"].ge(1)\n",
    "y2=female[\"HAD_CPOX\"].eq(2)&female[\"P_NUMVRC\"].ge(1)\n",
    "result_male= x1.sum()/x2.sum()\n",
    "result_female= y1.sum()/y2.sum()\n",
    "{'male':result_male,\n",
    "'female':result_female}"
   ]
  },
  {
   "cell_type": "code",
   "execution_count": 145,
   "metadata": {},
   "outputs": [
    {
     "data": {
      "text/plain": [
       "{'male': 0.009675583380762664, 'female': 0.0077918259335489565}"
      ]
     },
     "execution_count": 145,
     "metadata": {},
     "output_type": "execute_result"
    }
   ],
   "source": [
    "import numpy as np\n",
    "import pandas as pd\n",
    "\n",
    "df = pd.read_csv(\"assets/NISPUF17.csv\", index_col=0)\n",
    "df=df[[\"HAD_CPOX\",\"P_NUMVRC\"]].dropna()\n",
    "\n",
    "#pd.to_numeric()"
   ]
  },
  {
   "cell_type": "code",
   "execution_count": 3,
   "metadata": {},
   "outputs": [],
   "source": [
    "def corr_chickenpox():\n",
    "    import scipy.stats as stats\n",
    "    import numpy as np\n",
    "    import pandas as pd\n",
    "\n",
    "    df = pd.read_csv(\"assets/NISPUF17.csv\", index_col=0)\n",
    "    df=df[[\"HAD_CPOX\",\"P_NUMVRC\"]].dropna()\n",
    "    df=df[df['HAD_CPOX'].eq(1)|df['HAD_CPOX'].eq(2)]\n",
    "    df.sort_index(inplace=True)\n",
    "    corr, pval=stats.pearsonr(df[\"HAD_CPOX\"],df[\"P_NUMVRC\"])\n",
    "    \n",
    "\n",
    "    \n",
    "    return corr"
   ]
  },
  {
   "cell_type": "code",
   "execution_count": 4,
   "metadata": {},
   "outputs": [
    {
     "data": {
      "text/plain": [
       "0.07044873460147986"
      ]
     },
     "execution_count": 4,
     "metadata": {},
     "output_type": "execute_result"
    }
   ],
   "source": [
    "corr_chickenpox()"
   ]
  },
  {
   "cell_type": "code",
   "execution_count": null,
   "metadata": {},
   "outputs": [],
   "source": [
    "import scipy.stats as stats\n",
    "import numpy as np\n",
    "import pandas as pd\n",
    "\n",
    "df = pd.read_csv(\"assets/NISPUF17.csv\", index_col=0)\n",
    "df=df[[\"HAD_CPOX\",\"P_NUMVRC\"]].dropna()\n",
    "df=df[df['HAD_CPOX'].eq(1)|df['HAD_CPOX'].eq(2)]\n"
   ]
  },
  {
   "cell_type": "code",
   "execution_count": 125,
   "metadata": {},
   "outputs": [
    {
     "data": {
      "text/plain": [
       "0.0077918259335489565"
      ]
     },
     "execution_count": 125,
     "metadata": {},
     "output_type": "execute_result"
    }
   ],
   "source": []
  },
  {
   "cell_type": "code",
   "execution_count": null,
   "metadata": {},
   "outputs": [],
   "source": []
  },
  {
   "cell_type": "code",
   "execution_count": null,
   "metadata": {},
   "outputs": [],
   "source": []
  },
  {
   "cell_type": "code",
   "execution_count": 53,
   "metadata": {},
   "outputs": [],
   "source": [
    "S = S.rename(mapper = lambda x: x.upper(), axis = 'column')"
   ]
  },
  {
   "cell_type": "code",
   "execution_count": null,
   "metadata": {},
   "outputs": [],
   "source": []
  },
  {
   "cell_type": "code",
   "execution_count": 64,
   "metadata": {},
   "outputs": [],
   "source": [
    "import pandas as pd\n",
    "s1 = pd.Series({1: 'Alice', 2: 'Jack', 3: 'Molly'})\n",
    "s2 = pd.Series({'Alice': 1, 'Jack': 2, 'Molly': 3})"
   ]
  },
  {
   "cell_type": "code",
   "execution_count": null,
   "metadata": {},
   "outputs": [],
   "source": []
  },
  {
   "cell_type": "code",
   "execution_count": null,
   "metadata": {},
   "outputs": [],
   "source": []
  }
 ],
 "metadata": {
  "kernelspec": {
   "display_name": "Python 3",
   "language": "python",
   "name": "python3"
  },
  "language_info": {
   "codemirror_mode": {
    "name": "ipython",
    "version": 3
   },
   "file_extension": ".py",
   "mimetype": "text/x-python",
   "name": "python",
   "nbconvert_exporter": "python",
   "pygments_lexer": "ipython3",
   "version": "3.7.3"
  }
 },
 "nbformat": 4,
 "nbformat_minor": 2
}
