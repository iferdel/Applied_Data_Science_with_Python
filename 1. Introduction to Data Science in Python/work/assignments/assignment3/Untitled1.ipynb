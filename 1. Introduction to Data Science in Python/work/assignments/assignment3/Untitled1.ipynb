{
 "cells": [
  {
   "cell_type": "code",
   "execution_count": null,
   "metadata": {},
   "outputs": [],
   "source": [
    "import pandas as pd\n",
    "import numpy as np\n",
    "\n",
    "# Filter all warnings. If you would like to see the warnings, please comment the two lines below.\n",
    "import warnings\n",
    "warnings.filterwarnings('ignore')\n",
    "\n",
    "Energy = pd.read_excel(\"assets/Energy Indicators.xls\", header = None, footer = None)\n",
    "Energy = Energy[18:245].drop([0,1],axis=1)\n",
    "Energy.dropna(inplace=True)\n",
    "Energy.replace('...',np.nan,inplace=True)\n",
    "Energy.columns = ['Country', 'Energy Supply', 'Energy Supply per Capita', '% Renewable']\n",
    "Energy['Energy Supply'] = Energy['Energy Supply'].apply(lambda x: x*1000000)\n",
    "Energy.Country = Energy.Country.str.replace('\\d+', '')  #erase numbers\n",
    "Energy.Country = Energy.Country.str.replace(' \\(.*\\)','') #erase '(...)'\n",
    "rename_countries_Energy={'Republic of Korea': 'South Korea',\n",
    "                  'United States of America': 'United States',\n",
    "                  'United Kingdom of Great Britain and Northern Ireland':'United Kingdom',\n",
    "                  'China, Hong Kong Special Administrative Region':'Hong Kong'}\n",
    "Energy.replace(rename_countries_Energy,inplace=True)"
   ]
  },
  {
   "cell_type": "code",
   "execution_count": null,
   "metadata": {},
   "outputs": [],
   "source": [
    "GDP = pd.read_csv(\"assets/world_bank.csv\", skiprows = 4)\n",
    "rename_countries_GDP={\"Korea, Rep.\": \"South Korea\",\n",
    "                  \"Iran, Islamic Rep.\": \"Iran\",\n",
    "                  \"Hong Kong SAR, China\": \"Hong Kong\"}\n",
    "GDP.replace(rename_countries_GDP,inplace=True)\n",
    "\n",
    "GDP.rename(columns={'Country Name':'Country'},inplace=True)\n",
    "GDP=GDP.iloc[: ,np.r_[0,-10:-0]]\n",
    "GDP"
   ]
  },
  {
   "cell_type": "code",
   "execution_count": null,
   "metadata": {},
   "outputs": [],
   "source": [
    "ScimEn = pd.read_excel('assets/scimagojr-3.xlsx')\n",
    "ScimEn.insert(0, 'Country', ScimEn.pop('Country'))"
   ]
  },
  {
   "cell_type": "code",
   "execution_count": null,
   "metadata": {},
   "outputs": [],
   "source": [
    "Energy_GDP_Merge=pd.merge(Energy,GDP,how='inner', on='Country')\n",
    "df=pd.merge(ScimEn,Energy_GDP_Merge,how='inner', on='Country').set_index('Country')\n",
    "df=df[:15]"
   ]
  },
  {
   "cell_type": "code",
   "execution_count": null,
   "metadata": {},
   "outputs": [],
   "source": [
    "df"
   ]
  },
  {
   "cell_type": "code",
   "execution_count": null,
   "metadata": {},
   "outputs": [],
   "source": [
    "len(ScimEn)-len(df)"
   ]
  },
  {
   "cell_type": "code",
   "execution_count": null,
   "metadata": {},
   "outputs": [],
   "source": [
    "df.shape"
   ]
  },
  {
   "cell_type": "code",
   "execution_count": 1,
   "metadata": {},
   "outputs": [],
   "source": [
    "import pandas as pd\n",
    "import numpy as np\n",
    "\n",
    "# Filter all warnings. If you would like to see the warnings, please comment the two lines below.\n",
    "import warnings\n",
    "warnings.filterwarnings('ignore')\n",
    "\n",
    "\n",
    "\n",
    "\n",
    "def answer_one():\n",
    "    #Energy\n",
    "    Energy = pd.read_excel(\"assets/Energy Indicators.xls\", header = None, footer = None)\n",
    "    Energy = Energy[18:245].drop([0,1],axis=1)\n",
    "    Energy.dropna(inplace=True)\n",
    "    Energy.replace('...',np.nan,inplace=True)\n",
    "    Energy.columns = ['Country', 'Energy Supply', 'Energy Supply per Capita', '% Renewable']\n",
    "    Energy['Energy Supply'] = Energy['Energy Supply'].apply(lambda x: x*1000000)\n",
    "    Energy.Country = Energy.Country.str.replace('\\d+', '')  #erase numbers\n",
    "    Energy.Country = Energy.Country.str.replace(' \\(.*\\)','') #erase '(...)'\n",
    "    rename_countries_Energy={'Republic of Korea': 'South Korea',\n",
    "                             'United States of America': 'United States',\n",
    "                             'United Kingdom of Great Britain and Northern Ireland':'United Kingdom',\n",
    "                             'China, Hong Kong Special Administrative Region':'Hong Kong'}\n",
    "    Energy.replace(rename_countries_Energy,inplace=True)\n",
    "    \n",
    "    #GDP\n",
    "    GDP = pd.read_csv(\"assets/world_bank.csv\", skiprows = 4)\n",
    "    rename_countries_GDP={\"Korea, Rep.\": \"South Korea\",\n",
    "                          \"Iran, Islamic Rep.\": \"Iran\",\n",
    "                          \"Hong Kong SAR, China\": \"Hong Kong\"}\n",
    "    GDP.replace(rename_countries_GDP,inplace=True)\n",
    "\n",
    "    GDP.rename(columns={'Country Name':'Country'},inplace=True)\n",
    "    GDP=GDP.iloc[: ,np.r_[0,-10:-0]]\n",
    "    \n",
    "    #ScimEn\n",
    "    ScimEn = pd.read_excel('assets/scimagojr-3.xlsx')\n",
    "    ScimEn.insert(0, 'Country', ScimEn.pop('Country'))\n",
    "        \n",
    "    #Merge\n",
    "    Energy_GDP_Merge=pd.merge(Energy,GDP,how='inner', on='Country')\n",
    "    df=pd.merge(ScimEn,Energy_GDP_Merge,how='inner', on='Country').set_index('Country')\n",
    "    df=df[:15]\n",
    "    return df"
   ]
  },
  {
   "cell_type": "code",
   "execution_count": 2,
   "metadata": {},
   "outputs": [],
   "source": [
    "def answer_two():\n",
    "    # YOUR CODE HERE\n",
    "    ScimEn = pd.read_excel('assets/scimagojr-3.xlsx')\n",
    "    return len(ScimEn)-len(answer_one())"
   ]
  },
  {
   "cell_type": "code",
   "execution_count": null,
   "metadata": {},
   "outputs": [],
   "source": []
  },
  {
   "cell_type": "code",
   "execution_count": 3,
   "metadata": {},
   "outputs": [],
   "source": [
    "def answer_three():\n",
    "    df=answer_one()\n",
    "    df_answer_three=df[['2006','2007','2008','2009','2010','2011','2012','2013','2014','2015']]\n",
    "    avgGDP=df_answer_three.mean(axis=1)\n",
    "    return avgGDP.sort_values(ascending=False)"
   ]
  },
  {
   "cell_type": "code",
   "execution_count": 4,
   "metadata": {},
   "outputs": [
    {
     "data": {
      "text/plain": [
       "Country\n",
       "United States         1.536434e+13\n",
       "China                 6.348609e+12\n",
       "Japan                 5.542208e+12\n",
       "Germany               3.493025e+12\n",
       "France                2.681725e+12\n",
       "United Kingdom        2.487907e+12\n",
       "Brazil                2.189794e+12\n",
       "Italy                 2.120175e+12\n",
       "India                 1.769297e+12\n",
       "Canada                1.660647e+12\n",
       "Russian Federation    1.565459e+12\n",
       "Spain                 1.418078e+12\n",
       "Australia             1.164043e+12\n",
       "South Korea           1.106715e+12\n",
       "Iran                  4.441558e+11\n",
       "dtype: float64"
      ]
     },
     "execution_count": 4,
     "metadata": {},
     "output_type": "execute_result"
    }
   ],
   "source": [
    "\n",
    "answer_three()"
   ]
  },
  {
   "cell_type": "code",
   "execution_count": 14,
   "metadata": {},
   "outputs": [
    {
     "data": {
      "text/plain": [
       "246702696075.3999"
      ]
     },
     "execution_count": 14,
     "metadata": {},
     "output_type": "execute_result"
    }
   ],
   "source": [
    "df = (answer_one().loc[answer_three().index.tolist()[5]].loc[['2006', '2015']])\n",
    "df['2015']-df['2006']"
   ]
  },
  {
   "cell_type": "code",
   "execution_count": null,
   "metadata": {},
   "outputs": [],
   "source": []
  }
 ],
 "metadata": {
  "kernelspec": {
   "display_name": "Python 3",
   "language": "python",
   "name": "python3"
  },
  "language_info": {
   "codemirror_mode": {
    "name": "ipython",
    "version": 3
   },
   "file_extension": ".py",
   "mimetype": "text/x-python",
   "name": "python",
   "nbconvert_exporter": "python",
   "pygments_lexer": "ipython3",
   "version": "3.7.3"
  }
 },
 "nbformat": 4,
 "nbformat_minor": 2
}
