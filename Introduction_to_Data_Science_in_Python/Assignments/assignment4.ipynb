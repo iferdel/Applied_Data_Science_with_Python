{
 "cells": [
  {
   "cell_type": "markdown",
   "metadata": {
    "deletable": false,
    "editable": false,
    "nbgrader": {
     "checksum": "48770f8b5f5d3062d3badd51fcafc401",
     "grade": false,
     "grade_id": "cell-a6c4f74309fc2379",
     "locked": true,
     "schema_version": 1,
     "solution": false
    }
   },
   "source": [
    "# Assignment 4\n",
    "## Description\n",
    "In this assignment you must read in a file of metropolitan regions and associated sports teams from [assets/wikipedia_data.html](assets/wikipedia_data.html) and answer some questions about each metropolitan region. Each of these regions may have one or more teams from the \"Big 4\": NFL (football, in [assets/nfl.csv](assets/nfl.csv)), MLB (baseball, in [assets/mlb.csv](assets/mlb.csv)), NBA (basketball, in [assets/nba.csv](assets/nba.csv) or NHL (hockey, in [assets/nhl.csv](assets/nhl.csv)). Please keep in mind that all questions are from the perspective of the metropolitan region, and that this file is the \"source of authority\" for the location of a given sports team. Thus teams which are commonly known by a different area (e.g. \"Oakland Raiders\") need to be mapped into the metropolitan region given (e.g. San Francisco Bay Area). This will require some human data understanding outside of the data you've been given (e.g. you will have to hand-code some names, and might need to google to find out where teams are)!\n",
    "\n",
    "For each sport I would like you to answer the question: **what is the win/loss ratio's correlation with the population of the city it is in?** Win/Loss ratio refers to the number of wins over the number of wins plus the number of losses. Remember that to calculate the correlation with [`pearsonr`](https://docs.scipy.org/doc/scipy/reference/generated/scipy.stats.pearsonr.html), so you are going to send in two ordered lists of values, the populations from the wikipedia_data.html file and the win/loss ratio for a given sport in the same order. Average the win/loss ratios for those cities which have multiple teams of a single sport. Each sport is worth an equal amount in this assignment (20%\\*4=80%) of the grade for this assignment. You should only use data **from year 2018** for your analysis -- this is important!\n",
    "\n",
    "## Notes\n",
    "\n",
    "1. Do not include data about the MLS or CFL in any of the work you are doing, we're only interested in the Big 4 in this assignment.\n",
    "2. I highly suggest that you first tackle the four correlation questions in order, as they are all similar and worth the majority of grades for this assignment. This is by design!\n",
    "3. It's fair game to talk with peers about high level strategy as well as the relationship between metropolitan areas and sports teams. However, do not post code solving aspects of the assignment (including such as dictionaries mapping areas to teams, or regexes which will clean up names).\n",
    "4. There may be more teams than the assert statements test, remember to collapse multiple teams in one city into a single value!"
   ]
  },
  {
   "cell_type": "markdown",
   "metadata": {
    "deletable": false,
    "editable": false,
    "nbgrader": {
     "checksum": "369ff9ecf0ee04640574205cbc697f94",
     "grade": false,
     "grade_id": "cell-712b2b5da63d4505",
     "locked": true,
     "schema_version": 1,
     "solution": false
    }
   },
   "source": [
    "## Question 1\n",
    "For this question, calculate the win/loss ratio's correlation with the population of the city it is in for the **NHL** using **2018** data."
   ]
  },
  {
   "cell_type": "code",
   "execution_count": 1,
   "metadata": {
    "deletable": false,
    "nbgrader": {
     "checksum": "1cac4803b02502929f5b1612d48db2b5",
     "grade": false,
     "grade_id": "cell-69b16e4386e58030",
     "locked": false,
     "schema_version": 1,
     "solution": true
    }
   },
   "outputs": [],
   "source": [
    "def nhl_correlation(): \n",
    "    # YOUR CODE HERE\n",
    "    import pandas as pd\n",
    "    import numpy as np\n",
    "    import scipy.stats as stats\n",
    "    import re\n",
    "\n",
    "    nhl_df=pd.read_csv(\"assets/nhl.csv\")\n",
    "    cities=pd.read_html(\"assets/wikipedia_data.html\")[1]\n",
    "    cities=cities.iloc[:-1,[0,3,5,6,7,8]]\n",
    "\n",
    "    cities['NHL'] = cities['NHL'].str.replace('\\[.*\\]','') #erase '([notes])'\n",
    "    cities['NHL'] = cities['NHL'].str.replace(r\"([A-Z])\", r\" \\1\").str.strip() #Split names in column\n",
    "    cities['NHL'] = cities['NHL'][cities['NHL'].str.contains(\"[^\\s*$|\\W]\")]\n",
    "    cities = cities.drop(columns=[\"NFL\",'NBA','MLB']).rename(columns={'Population (2016 est.)[8]':'Population (2016 est.)'})\n",
    "    cities = cities.dropna()\n",
    "    cities = cities.set_index('Metropolitan area')\n",
    "    nhl_df = nhl_df.loc[nhl_df.year==2018]\n",
    "    nhl_df = nhl_df.drop([0,9,18,26])\n",
    "    nhl_df.team = nhl_df.team.str.replace('[*]','') #erase '(*)'\n",
    "    nhl_df = nhl_df\n",
    "    nhl_df['W']=nhl_df['W'].astype(float)\n",
    "    nhl_df['L']=nhl_df['L'].astype(float)\n",
    "    nhl_df['W/L ratio'] = nhl_df['W']/(nhl_df['W']+nhl_df['L'])\n",
    "    nhl_df['Metropolitan area'] =['Tampa Bay Area','Boston','Toronto',cities.index[10],'Detroit','Montreal','Ottawa','Buffalo','Washington, D.C.','Pittsburgh','Philadelphia','Columbus','New York City',\n",
    "                                 'Raleigh','New York City','New York City','Nashville','Winnipeg',cities.index[8],'Denver','St. Louis',cities.index[4],'Chicago','Las Vegas','Los Angeles','San Francisco Bay Area',\n",
    "                                 'Los Angeles','Calgary','Edmonton','Vancouver','Phoenix']\n",
    "    nhl_df=nhl_df.set_index('Metropolitan area').drop(['GP','OL','PTS','PTS%','GF','GA','SRS','SOS','RPt%','ROW','year','League'], axis=1)\n",
    "    nhl_df['W/L ratio'].loc['New York City']=nhl_df.loc['New York City']['W/L ratio'].mean()\n",
    "    nhl_df['W/L ratio'].loc['Los Angeles']=nhl_df.loc['Los Angeles']['W/L ratio'].mean()\n",
    "    nhl_df = nhl_df.reset_index().set_index('team')\n",
    "    nhl_df = nhl_df.drop(['New York Islanders','New York Rangers','Los Angeles Kings'],axis=0)\n",
    "    nhl_df = nhl_df.set_index('Metropolitan area')\n",
    "    result=pd.merge(cities,nhl_df,how='outer', on='Metropolitan area')\n",
    "    \n",
    "    population_by_region = result['Population (2016 est.)'].astype(float).tolist() # pass in metropolitan area population from cities\n",
    "    win_loss_by_region = result['W/L ratio'].tolist() # pass in win/loss ratio from nhl_df in the same order as cities[\"Metropolitan area\"]\n",
    "\n",
    "    assert len(population_by_region) == len(win_loss_by_region), \"Q1: Your lists must be the same length\"\n",
    "    assert len(population_by_region) == 28, \"Q1: There should be 28 teams being analysed for NHL\"\n",
    "    \n",
    "    return stats.pearsonr(population_by_region, win_loss_by_region)[0]"
   ]
  },
  {
   "cell_type": "code",
   "execution_count": null,
   "metadata": {
    "deletable": false,
    "editable": false,
    "nbgrader": {
     "checksum": "52a581df513c71153e105b93764cda4b",
     "grade": true,
     "grade_id": "cell-ebe0b2dfe1067e63",
     "locked": true,
     "points": 20,
     "schema_version": 1,
     "solution": false
    }
   },
   "outputs": [],
   "source": []
  },
  {
   "cell_type": "markdown",
   "metadata": {
    "deletable": false,
    "editable": false,
    "nbgrader": {
     "checksum": "988912cae4968d81473f46d783e79c16",
     "grade": false,
     "grade_id": "cell-cb964e690298b71d",
     "locked": true,
     "schema_version": 1,
     "solution": false
    }
   },
   "source": [
    "## Question 2\n",
    "For this question, calculate the win/loss ratio's correlation with the population of the city it is in for the **NBA** using **2018** data."
   ]
  },
  {
   "cell_type": "code",
   "execution_count": 2,
   "metadata": {
    "deletable": false,
    "nbgrader": {
     "checksum": "9394222aafc8ccab0a228098ba0d6010",
     "grade": false,
     "grade_id": "cell-5a5f21279e3d3572",
     "locked": false,
     "schema_version": 1,
     "solution": true
    }
   },
   "outputs": [],
   "source": [
    "def nba_correlation():\n",
    "    # YOUR CODE HERE\n",
    "    import pandas as pd\n",
    "    import numpy as np\n",
    "    import scipy.stats as stats\n",
    "    import re\n",
    "\n",
    "    nba_df=pd.read_csv(\"assets/nba.csv\")\n",
    "    cities=pd.read_html(\"assets/wikipedia_data.html\")[1]\n",
    "    cities=cities.iloc[:-1,[0,3,5,6,7,8]]\n",
    "    cities['NBA'] = cities['NBA'].str.replace('\\[.*\\]','') #erase '([notes])'\n",
    "    cities['NBA'] = cities['NBA'].str.replace(r\"([A-Z])\", r\" \\1\").str.strip() #Split names in column\n",
    "    cities['NBA'] = cities['NBA'][cities['NBA'].str.contains(\"[^\\s*$|\\W]\")]\n",
    "    cities = cities.drop(columns=[\"NFL\",'NHL','MLB']).rename(columns={'Population (2016 est.)[8]':'Population (2016 est.)'})\n",
    "    cities = cities.dropna()\n",
    "    cities = cities.set_index('Metropolitan area')\n",
    "\n",
    "    nba_df = nba_df.loc[nba_df.year==2018]\n",
    "    nba_df.team = nba_df.team.str.replace('([*]\\s[(]\\w.)|(\\s[(]\\w.*)','') #erase '(*)'\n",
    "    nba_df['Metropolitan area'] =['Toronto','Boston','Philadelphia','Cleveland','Indianapolis',cities.index[10],\n",
    "                                  'Milwaukee','Washington, D.C.','Detroit','Charlotte','New York City','New York City',\n",
    "                                  'Chicago','Orlando','Atlanta','Houston','San Francisco Bay Area','Portland',\n",
    "                                  'Oklahoma City','Salt Lake City','New Orleans','San Antonio',cities.index[8],\n",
    "                                  'Denver','Los Angeles','Los Angeles','Sacramento',cities.index[4],'Memphis','Phoenix']\n",
    "    nba_df=nba_df.set_index('Metropolitan area').drop(['W','L','GB','PS/G','PA/G','SRS','year','League'], axis=1)\n",
    "    nba_df['W/L%']=nba_df['W/L%'].astype(float)\n",
    "    nba_df['W/L%'].loc['New York City']=nba_df.loc['New York City']['W/L%'].mean()\n",
    "    nba_df['W/L%'].loc['Los Angeles']=nba_df.loc['Los Angeles']['W/L%'].mean()\n",
    "    nba_df = nba_df.reset_index().set_index('team')\n",
    "    nba_df = nba_df.drop(['New York Knicks','Los Angeles Clippers'],axis=0)\n",
    "    nba_df = nba_df.set_index('Metropolitan area')\n",
    "    result=pd.merge(cities,nba_df,how='outer', on='Metropolitan area')\n",
    "    population_by_region = result['Population (2016 est.)'].astype(float).tolist() # pass in metropolitan area population from cities\n",
    "    win_loss_by_region = result['W/L%'].tolist() # pass in win/loss ratio from nba_df in the same order as cities[\"Metropolitan area\"]\n",
    "\n",
    "\n",
    "    assert len(population_by_region) == len(win_loss_by_region), \"Q2: Your lists must be the same length\"\n",
    "    assert len(population_by_region) == 28, \"Q2: There should be 28 teams being analysed for NBA\"\n",
    "\n",
    "    return stats.pearsonr(population_by_region, win_loss_by_region)[0]"
   ]
  },
  {
   "cell_type": "code",
   "execution_count": null,
   "metadata": {
    "deletable": false,
    "editable": false,
    "nbgrader": {
     "checksum": "bbdeb8eb22f525a34c10dc8798324e42",
     "grade": true,
     "grade_id": "cell-e573b2b4a282b470",
     "locked": true,
     "points": 20,
     "schema_version": 1,
     "solution": false
    }
   },
   "outputs": [],
   "source": []
  },
  {
   "cell_type": "markdown",
   "metadata": {
    "deletable": false,
    "editable": false,
    "nbgrader": {
     "checksum": "1a1a5809f675ca033086422007cd73bd",
     "grade": false,
     "grade_id": "cell-96e15e4335df78f4",
     "locked": true,
     "schema_version": 1,
     "solution": false
    }
   },
   "source": [
    "## Question 3\n",
    "For this question, calculate the win/loss ratio's correlation with the population of the city it is in for the **MLB** using **2018** data."
   ]
  },
  {
   "cell_type": "code",
   "execution_count": 3,
   "metadata": {
    "deletable": false,
    "nbgrader": {
     "checksum": "27e8c0da6c9fa0dffc10488314335b6c",
     "grade": false,
     "grade_id": "cell-33b00fc3f3467b0c",
     "locked": false,
     "schema_version": 1,
     "solution": true
    }
   },
   "outputs": [],
   "source": [
    "def mlb_correlation(): \n",
    "    # YOUR CODE HERE\n",
    "    import pandas as pd\n",
    "    import numpy as np\n",
    "    import scipy.stats as stats\n",
    "    import re\n",
    "\n",
    "    mlb_df=pd.read_csv(\"assets/mlb.csv\")\n",
    "    cities=pd.read_html(\"assets/wikipedia_data.html\")[1]\n",
    "    cities=cities.iloc[:-1,[0,3,5,6,7,8]]\n",
    "\n",
    "    import pandas as pd\n",
    "    import numpy as np\n",
    "    import scipy.stats as stats\n",
    "    import re\n",
    "\n",
    "    mlb_df=pd.read_csv(\"assets/mlb.csv\")\n",
    "    cities=pd.read_html(\"assets/wikipedia_data.html\")[1]\n",
    "    cities=cities.iloc[:-1,[0,3,5,6,7,8]]\n",
    "    cities['MLB'] = cities['MLB'].str.replace('\\[.*\\]','') #erase '([notes])'\n",
    "    cities['MLB'] = cities['MLB'].str.replace(r\"([A-Z])\", r\" \\1\").str.strip() #Split names in column\n",
    "    cities['MLB'] = cities['MLB'][cities['MLB'].str.contains(\"[^\\s*$|\\W]\")]\n",
    "    cities = cities.drop(columns=[\"NFL\",'NHL','NBA']).rename(columns={'Population (2016 est.)[8]':'Population (2016 est.)'})\n",
    "    cities = cities.dropna()\n",
    "    cities = cities.set_index('Metropolitan area')\n",
    "\n",
    "    mlb_df = mlb_df.loc[mlb_df.year==2018]\n",
    "    mlb_df['Metropolitan area'] =['Boston','New York City','Tampa Bay Area','Toronto','Baltimore','Cleveland',cities.index[8],\n",
    "                                      'Detroit','Chicago','Kansas City','Houston','San Francisco Bay Area','Seattle',\n",
    "                                      'Los Angeles',cities.index[4],'Atlanta','Washington, D.C.','Philadelphia','New York City',\n",
    "                                      cities.index[10],'Milwaukee','Chicago','St. Louis','Pittsburgh','Cincinnati','Los Angeles',\n",
    "                                      'Denver','Phoenix','San Francisco Bay Area','San Diego']\n",
    "    mlb_df=mlb_df.set_index('Metropolitan area').drop(['W','L','GB','year','League'], axis=1)\n",
    "    mlb_df['W-L%']=mlb_df['W-L%'].astype(float)\n",
    "\n",
    "    mlb_df['W-L%'].loc['New York City']=mlb_df.loc['New York City']['W-L%'].mean()\n",
    "    mlb_df['W-L%'].loc['San Francisco Bay Area']=mlb_df.loc['San Francisco Bay Area']['W-L%'].mean()\n",
    "    mlb_df['W-L%'].loc['Chicago']=mlb_df.loc['Chicago']['W-L%'].mean()\n",
    "    mlb_df['W-L%'].loc['Los Angeles']=mlb_df.loc['Los Angeles']['W-L%'].mean()\n",
    "    mlb_df = mlb_df.reset_index().set_index('team')\n",
    "    mlb_df = mlb_df.drop(['New York Yankees','Chicago White Sox','Oakland Athletics','Los Angeles Angels'],axis=0)\n",
    "    mlb_df = mlb_df.set_index('Metropolitan area')\n",
    "    result=pd.merge(cities,mlb_df,how='outer', on='Metropolitan area')\n",
    "    population_by_region = result['Population (2016 est.)'].astype(float).tolist() # pass in metropolitan area population from cities\n",
    "    win_loss_by_region = result['W-L%'].tolist() # pass in win/loss ratio from mlb_df in the same order as cities[\"Metropolitan area\"]\n",
    "\n",
    "    assert len(population_by_region) == len(win_loss_by_region), \"Q3: Your lists must be the same length\"\n",
    "    assert len(population_by_region) == 26, \"Q3: There should be 26 teams being analysed for MLB\"\n",
    "\n",
    "    return stats.pearsonr(population_by_region, win_loss_by_region)[0]"
   ]
  },
  {
   "cell_type": "code",
   "execution_count": null,
   "metadata": {
    "deletable": false,
    "editable": false,
    "nbgrader": {
     "checksum": "cda33b094ba19ccc37a481e0dd29e0bc",
     "grade": true,
     "grade_id": "cell-764d4476f425c5a2",
     "locked": true,
     "points": 20,
     "schema_version": 1,
     "solution": false
    }
   },
   "outputs": [],
   "source": []
  },
  {
   "cell_type": "markdown",
   "metadata": {
    "deletable": false,
    "editable": false,
    "nbgrader": {
     "checksum": "6977a6da9ed6d8b7a0b7e37bbeda709b",
     "grade": false,
     "grade_id": "cell-793df6c04dfb126e",
     "locked": true,
     "schema_version": 1,
     "solution": false
    }
   },
   "source": [
    "## Question 4\n",
    "For this question, calculate the win/loss ratio's correlation with the population of the city it is in for the **NFL** using **2018** data."
   ]
  },
  {
   "cell_type": "code",
   "execution_count": 4,
   "metadata": {
    "deletable": false,
    "nbgrader": {
     "checksum": "c4914ad1e119278ec2bd567c52640b66",
     "grade": false,
     "grade_id": "cell-8ccebc209aeec8d9",
     "locked": false,
     "schema_version": 1,
     "solution": true
    }
   },
   "outputs": [],
   "source": [
    "def nfl_correlation(): \n",
    "    # YOUR CODE HERE\n",
    "    import pandas as pd\n",
    "    import numpy as np\n",
    "    import scipy.stats as stats\n",
    "    import re\n",
    "\n",
    "    nfl_df=pd.read_csv(\"assets/nfl.csv\")\n",
    "    cities=pd.read_html(\"assets/wikipedia_data.html\")[1]\n",
    "    cities=cities.iloc[:-1,[0,3,5,6,7,8]]\n",
    "    cities['NFL'] = cities['NFL'].str.replace('\\[.*\\]','') #erase '([notes])'\n",
    "    cities['NFL'] = cities['NFL'].str.replace(r\"([A-Z])\", r\" \\1\").str.strip() #Split names in column\n",
    "    cities['NFL'] = cities['NFL'][cities['NFL'].str.contains(\"[^\\s*$|\\W]\")]\n",
    "    cities = cities.drop(columns=[\"MLB\",'NHL','NBA']).rename(columns={'Population (2016 est.)[8]':'Population (2016 est.)'})\n",
    "    cities = cities.dropna()\n",
    "    cities = cities.set_index('Metropolitan area')\n",
    "\n",
    "\n",
    "    nfl_df = nfl_df.loc[nfl_df.year==2018]\n",
    "    nfl_df = nfl_df.drop([0,5,10,15,20,25,30,35])\n",
    "    nfl_df.team = nfl_df.team.str.replace('([*]|[+])','') #erase '(*)'\n",
    "    nfl_df['Metropolitan area'] =['Boston',cities.index[10],'Buffalo','New York City','Baltimore',\n",
    "                                  'Pittsburgh','Cleveland','Cincinnati','Houston','Indianapolis',\n",
    "                                  'Nashville','Jacksonville','Kansas City','Los Angeles','Denver',\n",
    "                                  'San Francisco Bay Area',cities.index[4],'Philadelphia','Washington, D.C.'\n",
    "                                  ,'New York City','Chicago',cities.index[8],'Green Bay','Detroit',\n",
    "                                  'New Orleans','Charlotte','Atlanta','Tampa Bay Area','Los Angeles',\n",
    "                                  'Seattle','San Francisco Bay Area','Phoenix']\n",
    "    nfl_df=nfl_df.set_index('Metropolitan area').drop(['DSRS','OSRS','MoV','PA','W','L','PD','PF','SRS','T','SoS','year','League'], axis=1)\n",
    "    nfl_df['W-L%']=nfl_df['W-L%'].astype(float)\n",
    "\n",
    "    nfl_df['W-L%'].loc['New York City']=nfl_df.loc['New York City']['W-L%'].mean()\n",
    "    nfl_df['W-L%'].loc['San Francisco Bay Area']=nfl_df.loc['San Francisco Bay Area']['W-L%'].mean()\n",
    "    nfl_df['W-L%'].loc['Los Angeles']=nfl_df.loc['Los Angeles']['W-L%'].mean()\n",
    "    nfl_df = nfl_df.reset_index().set_index('team')\n",
    "    nfl_df = nfl_df.drop(['New York Jets','Oakland Raiders','Los Angeles Rams'],axis=0)\n",
    "    nfl_df = nfl_df.set_index('Metropolitan area')\n",
    "    result=pd.merge(cities,nfl_df,how='outer', on='Metropolitan area')\n",
    "    population_by_region = result['Population (2016 est.)'].astype(float).tolist() # pass in metropolitan area population from cities\n",
    "    win_loss_by_region = result['W-L%'].tolist() # pass in win/loss ratio from nfl_df in the same order as cities[\"Metropolitan area\"]\n",
    "\n",
    "\n",
    "    assert len(population_by_region) == len(win_loss_by_region), \"Q4: Your lists must be the same length\"\n",
    "    assert len(population_by_region) == 29, \"Q4: There should be 29 teams being analysed for NFL\"\n",
    "\n",
    "    return stats.pearsonr(population_by_region, win_loss_by_region)[0]"
   ]
  },
  {
   "cell_type": "code",
   "execution_count": null,
   "metadata": {
    "deletable": false,
    "editable": false,
    "nbgrader": {
     "checksum": "e9415d6399aa49e3a1a60813afdefa3b",
     "grade": true,
     "grade_id": "cell-de7b148b9554dbda",
     "locked": true,
     "points": 20,
     "schema_version": 1,
     "solution": false
    }
   },
   "outputs": [],
   "source": []
  },
  {
   "cell_type": "markdown",
   "metadata": {
    "deletable": false,
    "editable": false,
    "nbgrader": {
     "checksum": "b02d5cd3273f561e4ae939bb2a41740c",
     "grade": false,
     "grade_id": "cell-97b49d8639e908c4",
     "locked": true,
     "schema_version": 1,
     "solution": false
    }
   },
   "source": [
    "## Question 5\n",
    "In this question I would like you to explore the hypothesis that **given that an area has two sports teams in different sports, those teams will perform the same within their respective sports**. How I would like to see this explored is with a series of paired t-tests (so use [`ttest_rel`](https://docs.scipy.org/doc/scipy/reference/generated/scipy.stats.ttest_rel.html)) between all pairs of sports. Are there any sports where we can reject the null hypothesis? Again, average values where a sport has multiple teams in one region. Remember, you will only be including, for each sport, cities which have teams engaged in that sport, drop others as appropriate. This question is worth 20% of the grade for this assignment."
   ]
  },
  {
   "cell_type": "code",
   "execution_count": 5,
   "metadata": {
    "deletable": false,
    "nbgrader": {
     "checksum": "92b8bedc9c49fca1ef724ab5ce526db5",
     "grade": false,
     "grade_id": "cell-92f25f44b8d1179f",
     "locked": false,
     "schema_version": 1,
     "solution": true
    }
   },
   "outputs": [],
   "source": [
    "import pandas as pd\n",
    "import numpy as np\n",
    "import scipy.stats as stats\n",
    "import re\n",
    "\n",
    "mlb_df=pd.read_csv(\"assets/mlb.csv\")\n",
    "nhl_df=pd.read_csv(\"assets/nhl.csv\")\n",
    "nba_df=pd.read_csv(\"assets/nba.csv\")\n",
    "nfl_df=pd.read_csv(\"assets/nfl.csv\")\n",
    "cities=pd.read_html(\"assets/wikipedia_data.html\")[1]\n",
    "cities=cities.iloc[:-1,[0,3,5,6,7,8]]\n",
    "\n",
    "def sports_team_performance():\n",
    "    # YOUR CODE HERE\n",
    "    raise NotImplementedError()\n",
    "    \n",
    "    # Note: p_values is a full dataframe, so df.loc[\"NFL\",\"NBA\"] should be the same as df.loc[\"NBA\",\"NFL\"] and\n",
    "    # df.loc[\"NFL\",\"NFL\"] should return np.nan\n",
    "    sports = ['NFL', 'NBA', 'NHL', 'MLB']\n",
    "    p_values = pd.DataFrame({k:np.nan for k in sports}, index=sports)\n",
    "    \n",
    "    assert abs(p_values.loc[\"NBA\", \"NHL\"] - 0.02) <= 1e-2, \"The NBA-NFL p-value should be around 0.02\"\n",
    "    assert abs(p_values.loc[\"MLB\", \"NFL\"] - 0.80) <= 1e-2, \"The MLB-NFL p-value should be around 0.80\"\n",
    "    return p_values"
   ]
  },
  {
   "cell_type": "code",
   "execution_count": null,
   "metadata": {
    "deletable": false,
    "editable": false,
    "nbgrader": {
     "checksum": "2a596ab421a45cc01168d10e8fbb8f89",
     "grade": true,
     "grade_id": "cell-fb4b9cb5ff4570a6",
     "locked": true,
     "points": 20,
     "schema_version": 1,
     "solution": false
    }
   },
   "outputs": [],
   "source": []
  }
 ],
 "metadata": {
  "coursera": {
   "schema_names": [
    "mooc_adswpy_1_v2_assignment4"
   ]
  },
  "kernelspec": {
   "display_name": "Python 3",
   "language": "python",
   "name": "python3"
  },
  "language_info": {
   "codemirror_mode": {
    "name": "ipython",
    "version": 3
   },
   "file_extension": ".py",
   "mimetype": "text/x-python",
   "name": "python",
   "nbconvert_exporter": "python",
   "pygments_lexer": "ipython3",
   "version": "3.7.3"
  }
 },
 "nbformat": 4,
 "nbformat_minor": 1
}
